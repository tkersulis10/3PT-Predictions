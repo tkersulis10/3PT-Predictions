{
 "cells": [
  {
   "cell_type": "markdown",
   "metadata": {},
   "source": [
    "# 2024 NBA Future Analytics Stars Coding Exercise\n",
    "\n",
    "### Neural Network Using TensorFlow\n",
    "\n",
    "#### Tomas Kersulis"
   ]
  },
  {
   "cell_type": "code",
   "execution_count": 1,
   "metadata": {},
   "outputs": [],
   "source": [
    "# import needed libraries\n",
    "import numpy as np\n",
    "import pandas as pd\n",
    "import matplotlib.pyplot as plt\n",
    "from sklearn.metrics import mean_squared_error\n",
    "from keras.models import Sequential\n",
    "from keras.layers import Dense"
   ]
  },
  {
   "cell_type": "code",
   "execution_count": 2,
   "metadata": {},
   "outputs": [],
   "source": [
    "# Get data from csv file\n",
    "df = pd.read_csv('fas_2024.csv',sep=',')\n",
    "player_stats = df.values[:,2:] # Stats for all players for months of October and November\n",
    "real_three_pct = df.values[:,1] # Season long 3 pt percentage"
   ]
  },
  {
   "cell_type": "code",
   "execution_count": 13,
   "metadata": {},
   "outputs": [],
   "source": [
    "# Create neural network\n",
    "class NeuralNetwork:\n",
    "    \"\"\"\n",
    "    A neural network created to assist in predicting NBA player statistics.\n",
    "    Citation for help: https://www.tensorflow.org/guide/keras/sequential_model\n",
    "    \"\"\"\n",
    "    def __init__(self, input_dimension, width_list):\n",
    "        \"\"\"\n",
    "        Initialize a NeuralNetwork with a specified input dimension and width_list to\n",
    "        define the number of hidden layers and how wide each of these layers are in\n",
    "        the NeuralNetwork.\n",
    "        \n",
    "        Attributes:\n",
    "            input_dimension     The number of inputs into the first layer of the NeuralNetwork\n",
    "            width_list          An int list of the the width (number of nodes in a layer) of\n",
    "                                of each hidden layer of the NeuralNetwork, excluding the input\n",
    "                                and output layer (i.e. for a NeuralNetwork with one hidden\n",
    "                                layer of width 50, width_list is [50])\n",
    "        \"\"\"\n",
    "        self.model = Sequential()\n",
    "        self.model.add(Dense(width_list[0], input_dim=input_dimension,\n",
    "            activation='relu'))\n",
    "        for layer in width_list[1:]:\n",
    "            self.model.add(Dense(layer, activation='relu'))\n",
    "        self.model.add(Dense(1, activation='linear'))\n",
    "        self.model.compile(loss='mean_squared_error', optimizer='adam')\n",
    "        \n",
    "    def run(self, epochs, batch_size, training_x, training_y, testing_x, testing_y):\n",
    "        \"\"\"\n",
    "        Train and test the NeuralNetwork using the specified number of epochs and batch size.\n",
    "        \n",
    "        Attributes:\n",
    "            epochs           Number of epochs to train the NeuralNetwork for\n",
    "            batch size       Size of the batch of training data points used\n",
    "            training_x       training input data\n",
    "            training_y       training real output data\n",
    "            testing_x        testing input data\n",
    "            testing_y        testing real output data\n",
    "        \"\"\"\n",
    "        # Fit the neural network\n",
    "        self.model.fit(training_x, training_y, epochs=epochs, batch_size=batch_size, verbose=0)\n",
    "\n",
    "        # Get predictions for validation data\n",
    "        predicted_y = self.model.predict(testing_x)\n",
    "\n",
    "        # Calculate the mean squared error\n",
    "        mse = mean_squared_error(testing_y, predicted_y)\n",
    "        \n",
    "        return mse, predicted_y"
   ]
  },
  {
   "cell_type": "code",
   "execution_count": 14,
   "metadata": {},
   "outputs": [],
   "source": [
    "# randomly split the data into a 60/20/20 training/validation/test split\n",
    "def data_split(player_stats, real_three_pct):\n",
    "    \"\"\"\n",
    "    Randomly split the data given into a 60/20/20 training/validation/test split.\n",
    "    \n",
    "    Attributes:\n",
    "        player_stats        Two-dimensional array for the input data player stats\n",
    "                            for the months of October and November where the rows\n",
    "                            are each player's stats and the columns are the stat\n",
    "                            for each player\n",
    "        real_three_pct      One-dimensional array for player's season long three\n",
    "                            point percentage\n",
    "    \"\"\"\n",
    "    n_players = len(player_stats)\n",
    "    player_indexes = np.arange(n_players)\n",
    "    \n",
    "    # Randomly assign the players to the training group\n",
    "    training_indexes = np.random.choice(player_indexes, int(n_players * 0.6), replace=False)\n",
    "    training_x = player_stats[training_indexes]\n",
    "    training_y = real_three_pct[training_indexes]\n",
    "    \n",
    "    # Randomly assign the players to the validation group\n",
    "    non_training_players = n_players - len(training_indexes)\n",
    "    validation_indexes = np.ones(n_players) / non_training_players\n",
    "    validation_indexes[training_indexes] = 0\n",
    "    validation_indexes = np.random.choice(player_indexes, int(non_training_players / 2), \\\n",
    "                                          p=validation_indexes, replace=False)\n",
    "    validation_x = player_stats[validation_indexes]\n",
    "    validation_y = real_three_pct[validation_indexes]\n",
    "    \n",
    "    # Randomly assign the players to the testing group\n",
    "    testing_indexes = np.ones(n_players, bool)\n",
    "    testing_indexes[training_indexes] = False\n",
    "    testing_indexes[validation_indexes] = False\n",
    "    testing_indexes = player_indexes[testing_indexes]\n",
    "    testing_x = player_stats[testing_indexes]\n",
    "    testing_y = real_three_pct[testing_indexes]\n",
    "    \n",
    "    # return the resulting split\n",
    "    # x: model input data, y: real output data\n",
    "    # Citation help: https://stackoverflow.com/questions/58636087/tensorflow-valueerror-failed-to-convert-a-numpy-array-to-a-tensor-unsupporte\n",
    "    return np.asarray(training_x).astype(np.float32), \\\n",
    "            np.asarray(training_y).astype(np.float32), \\\n",
    "            np.asarray(validation_x).astype(np.float32), \\\n",
    "            np.asarray(validation_y).astype(np.float32), \\\n",
    "            np.asarray(testing_x).astype(np.float32), \\\n",
    "            np.asarray(testing_y).astype(np.float32)"
   ]
  },
  {
   "cell_type": "code",
   "execution_count": 20,
   "metadata": {},
   "outputs": [],
   "source": [
    "def validation(training_x, training_y, validation_x, validation_y):\n",
    "    \"\"\"\n",
    "    Perform validation on the testing split to find the best hyperparameters for the\n",
    "    neural network: the depth and width of the hidden layers.\n",
    "    \n",
    "    Attributes:\n",
    "        training_x       training input data\n",
    "        training_y       training real output data\n",
    "        validation_x     validation input data\n",
    "        validation_y     validation real output data\n",
    "    \"\"\"\n",
    "    num_input_features = len(training_x[0])\n",
    "    best_mse = float('inf')\n",
    "    mse_dict = {}\n",
    "    print(\"Training and validating hyperparameters...\")\n",
    "    for depth in range(1, 4):\n",
    "        for width in range(10, 110, 10):\n",
    "            # Create, train, and test the neural network with the hyperparameters\n",
    "            neural_network = NeuralNetwork(num_input_features, [width] * depth)\n",
    "            mse, _ = neural_network.run(1000, 10, training_x, training_y, validation_x, validation_y)\n",
    "\n",
    "            print(\"Depth: \" + str(depth) + \", Width: \" + str(width) + \", MSE: \" + str(mse))\n",
    "            mse_dict[(depth, width)] = mse\n",
    "            if mse < best_mse:\n",
    "                best_mse = mse\n",
    "                best_hyperparameters = (depth, width)\n",
    "    \n",
    "    # Return the best hyperparameters\n",
    "    return best_hyperparameters, mse_dict"
   ]
  },
  {
   "cell_type": "code",
   "execution_count": 55,
   "metadata": {},
   "outputs": [],
   "source": [
    "def testing(training_x, training_y, testing_x, testing_y, depth, width):\n",
    "    \"\"\"\n",
    "    Test the neural network to find the mean squared error of the model using\n",
    "    the best hyperparameters found during validation for the depth and width\n",
    "    of the hidden layers of the neural network.\n",
    "    \n",
    "    Attributes:\n",
    "        training_x       training input data\n",
    "        training_y       training real output data\n",
    "        testing_x        testing input data\n",
    "        testing_y        testing real output data\n",
    "        depth            number of hidden layers in neural network\n",
    "        width            number of nodes in each hidden layer\n",
    "    \"\"\"\n",
    "    num_input_features = len(training_x[0])\n",
    "    \n",
    "    # Test the neural network with the hyperparameters\n",
    "    neural_network = NeuralNetwork(num_input_features, [width] * depth)\n",
    "    mse, predicted_y = neural_network.run(1000, 10, training_x, training_y, testing_x, testing_y)\n",
    "    \n",
    "    # Plot the squared error for the test group\n",
    "    testing_indexes = np.arange(len(testing_y))\n",
    "    plt.scatter(testing_indexes, np.square(predicted_y.T - testing_y), label=\"individual players' SE\")\n",
    "    # Citation help: https://stackoverflow.com/questions/33382619/plot-a-horizontal-line-on-a-given-plot\n",
    "    plt.axhline(y=mse, color='r', linestyle='-', label=\"MSE\")\n",
    "    plt.title(\"Squared Error of Test Group\")\n",
    "    plt.ylabel(\"Squared Error\")\n",
    "    plt.axhline(y=0, color='black', linestyle='-')\n",
    "    plt.legend()\n",
    "    \n",
    "    return mse"
   ]
  },
  {
   "cell_type": "code",
   "execution_count": 24,
   "metadata": {},
   "outputs": [
    {
     "name": "stdout",
     "output_type": "stream",
     "text": [
      "Training and validating hyperparameters...\n",
      "Depth: 1, Width: 10, MSE: 0.120870136\n",
      "Depth: 1, Width: 20, MSE: 0.15386361\n",
      "Depth: 1, Width: 30, MSE: 0.36834958\n",
      "Depth: 1, Width: 40, MSE: 0.49117386\n",
      "Depth: 1, Width: 50, MSE: 0.44563577\n",
      "Depth: 1, Width: 60, MSE: 0.16660224\n",
      "Depth: 1, Width: 70, MSE: 0.37503898\n",
      "Depth: 1, Width: 80, MSE: 0.14010264\n",
      "Depth: 1, Width: 90, MSE: 0.33866084\n",
      "Depth: 1, Width: 100, MSE: 0.58148134\n",
      "Depth: 2, Width: 10, MSE: 0.0028427138\n",
      "Depth: 2, Width: 20, MSE: 0.16543767\n",
      "Depth: 2, Width: 30, MSE: 0.007828518\n",
      "Depth: 2, Width: 40, MSE: 0.17936519\n",
      "Depth: 2, Width: 50, MSE: 0.012781421\n",
      "Depth: 2, Width: 60, MSE: 0.02418672\n",
      "Depth: 2, Width: 70, MSE: 0.024716971\n",
      "Depth: 2, Width: 80, MSE: 0.03517339\n",
      "Depth: 2, Width: 90, MSE: 0.024852885\n",
      "Depth: 2, Width: 100, MSE: 0.015748354\n",
      "Depth: 3, Width: 10, MSE: 0.0014693972\n",
      "Depth: 3, Width: 20, MSE: 0.24356681\n",
      "Depth: 3, Width: 30, MSE: 0.033171594\n",
      "Depth: 3, Width: 40, MSE: 0.021695457\n",
      "Depth: 3, Width: 50, MSE: 0.03310942\n",
      "Depth: 3, Width: 60, MSE: 0.01359624\n",
      "Depth: 3, Width: 70, MSE: 0.015207205\n",
      "Depth: 3, Width: 80, MSE: 0.0046540922\n",
      "Depth: 3, Width: 90, MSE: 0.003697477\n",
      "Depth: 3, Width: 100, MSE: 0.00510475\n",
      "Best hyperparameters (3, 10)\n"
     ]
    }
   ],
   "source": [
    "# Validate the model\n",
    "training_x, training_y, validation_x, validation_y, testing_x, testing_y = data_split(player_stats, real_three_pct)\n",
    "(depth, width), mse_dict = validation(training_x, training_y, validation_x, validation_y)\n",
    "\n",
    "print(\"Best hyperparameters\", (depth, width))"
   ]
  },
  {
   "cell_type": "code",
   "execution_count": 63,
   "metadata": {},
   "outputs": [
    {
     "name": "stdout",
     "output_type": "stream",
     "text": [
      "Mean Squared Error of Model: 0.0048557403\n"
     ]
    },
    {
     "data": {
      "image/png": "[encoded data removed]",
      "text/plain": [
       "<Figure size 432x288 with 1 Axes>"
      ]
     },
     "metadata": {
      "needs_background": "light"
     },
     "output_type": "display_data"
    }
   ],
   "source": [
    "# Test the model\n",
    "mse = testing(training_x, training_y, testing_x, testing_y, depth, width)\n",
    "print(\"Mean Squared Error of Model:\", mse)"
   ]
  },
  {
   "cell_type": "code",
   "execution_count": null,
   "metadata": {},
   "outputs": [],
   "source": []
  }
 ],
 "metadata": {
  "kernelspec": {
   "display_name": "Python 3",
   "language": "python",
   "name": "python3"
  },
  "language_info": {
   "codemirror_mode": {
    "name": "ipython",
    "version": 3
   },
   "file_extension": ".py",
   "mimetype": "text/x-python",
   "name": "python",
   "nbconvert_exporter": "python",
   "pygments_lexer": "ipython3",
   "version": "3.7.6"
  }
 },
 "nbformat": 4,
 "nbformat_minor": 4
}
